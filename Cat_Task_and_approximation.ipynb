{
 "cells": [
  {
   "cell_type": "code",
   "execution_count": 3,
   "id": "lasting-conservative",
   "metadata": {},
   "outputs": [],
   "source": [
    "import numpy as np\n",
    "import re\n",
    "from scipy.spatial import distance"
   ]
  },
  {
   "cell_type": "code",
   "execution_count": 170,
   "id": "outside-stuff",
   "metadata": {},
   "outputs": [
    {
     "name": "stdout",
     "output_type": "stream",
     "text": [
      "[{'index': 1, 'distance': 0.9527544408738466}, {'index': 2, 'distance': 0.8644738145642124}, {'index': 3, 'distance': 0.8951715163278082}, {'index': 4, 'distance': 0.7770887149698589}, {'index': 5, 'distance': 0.9402385695332803}, {'index': 6, 'distance': 0.7327387580875756}, {'index': 7, 'distance': 0.9258750683338899}, {'index': 8, 'distance': 0.8842724875284311}, {'index': 9, 'distance': 0.9055088817476932}, {'index': 10, 'distance': 0.8328165362273942}, {'index': 11, 'distance': 0.8804771390665607}, {'index': 12, 'distance': 0.8396432548525454}, {'index': 13, 'distance': 0.8703592552895671}, {'index': 14, 'distance': 0.8740118423302576}, {'index': 15, 'distance': 0.9442721787424647}, {'index': 16, 'distance': 0.8406361854220809}, {'index': 17, 'distance': 0.956644501523794}, {'index': 18, 'distance': 0.9442721787424647}, {'index': 19, 'distance': 0.8885443574849294}, {'index': 20, 'distance': 0.8427572744917122}, {'index': 21, 'distance': 0.8250364469440588}]\n",
      "The 1st closest sentence is a sentence #6 with a cosine distance of 0.73.\n",
      "The 2nd closest sentence is a sentence #4 with a cosine distance of 0.78.\n"
     ]
    }
   ],
   "source": [
    "with open('sentences.txt', 'r') as file_object: # open file with sentences\n",
    "    fille = file_object.readlines() # читаю файл построчно (каждая строка  - предложение)\n",
    "    words = [] # создаю список с разделенными словами\n",
    "    for k in fille:\n",
    "        k = k.lower() # привожу все слова к нижнему регистр\n",
    "        k = re.split('[^a-z]', k)\n",
    "        words.append(k) # создаю еще один список, куда буду класть только \"ненулевые\" слова (то есть хочу убрать все \"\" из предыдущего списка)\n",
    "\n",
    "\n",
    "words_dict = {} # теперь создаю словарь, куда вкладываю уникальные! слова как ключи! и количество их вхождений\n",
    "for g in words:\n",
    "    for l in g:\n",
    "        if l in words_dict:\n",
    "            words_dict[l] += 1\n",
    "        else:\n",
    "            words_dict[l] = 1\n",
    "words_dict.pop('')\n",
    "lends = [ x for x in range(0, len(words_dict))]   \n",
    "objects = words_dict.keys()\n",
    "a_dict = {key: value for key, value in zip(objects, lends)}  \n",
    "\n",
    "y = [[sentence.count(word) for word in objects] for sentence in words]\n",
    "\n",
    "dist = []\n",
    "for i in range(1, 22):\n",
    "    z = scipy.spatial.distance.cosine(y[0], y[i])\n",
    "    dist.append({'index':i, 'distance': z})\n",
    "\n",
    "print(dist)\n",
    "\n",
    "\n",
    "dist.sort(key=lambda x: x[\"distance\"])\n",
    "print(\"The 1st closest sentence is a sentence #%d with a cosine distance of %.2f.\\n\"\\\n",
    "     \"The 2nd closest sentence is a sentence #%d with a cosine distance of %.2f.\" % (\n",
    "            dist[0][\"index\"],\n",
    "            dist[0][\"distance\"],\n",
    "            dist[1][\"index\"],\n",
    "            dist[1][\"distance\"]))"
   ]
  },
  {
   "cell_type": "code",
   "execution_count": 4,
   "id": "98b5245a-3670-4835-b24f-207ab981a9a7",
   "metadata": {},
   "outputs": [
    {
     "name": "stdin",
     "output_type": "stream",
     "text": [
      " 1 2 3 4 5\n",
      " 2 3 4 5 6\n",
      " 3 4 5 6 7\n",
      " 4 5 6 7 8\n"
     ]
    },
    {
     "name": "stdout",
     "output_type": "stream",
     "text": [
      "Матрица системы вырожденная\n"
     ]
    }
   ],
   "source": [
    "a11, a12, a13, a14, b1 = input().split()\n",
    "a21, a22, a23, a24, b2 = input().split()\n",
    "a31, a32, a33, a34, b3 = input().split()\n",
    "a41, a42, a43, a44, b4 = input().split()\n",
    "M1 = np.array([[a11, a12, a13, a14], [a21, a22, a23, a24], [a31, a32, a33, a34], [a41, a42, a43, a44]]).astype(float) # Матрица (левая часть системы)\n",
    "v1 = np.array([b1, b2, b3, b4]).astype(float) # Вектор (правая часть системы)\n",
    "if np.linalg.det(M1) == 0:\n",
    "    print ('Матрица системы вырожденная')\n",
    "else:\n",
    "    r = np.linalg.solve(M1, v1) #Находим решение системы\n",
    "    print(r[0], r[1], r[2], r[3])"
   ]
  },
  {
   "cell_type": "code",
   "execution_count": 5,
   "id": "95a94e6d-5e87-4890-9403-9f07511e99dc",
   "metadata": {},
   "outputs": [
    {
     "name": "stdin",
     "output_type": "stream",
     "text": [
      " 3\n",
      " 1 2 3 4\n",
      " 2 3 4 5\n",
      " 3 4 5 6\n"
     ]
    },
    {
     "name": "stdout",
     "output_type": "stream",
     "text": [
      "-1.9999999999999993 2.9999999999999996 -0.0\n"
     ]
    }
   ],
   "source": [
    "import numpy as np\n",
    "\n",
    "n, M, v = int(input()), [] ,[]\n",
    "\n",
    "for i in range(n):\n",
    "    c = list(map(float, input().split()))\n",
    "    M.append(c[:-1])\n",
    "    v.append(c[-1])\n",
    "    \n",
    "M1 = np.array(M) \n",
    "v1 = np.array(v) \n",
    "\n",
    "if np.linalg.det(M1):\n",
    "    r = np.linalg.solve(M1, v1)\n",
    "    print(*r)\n",
    "else:\n",
    "    print('Матрица системы вырожденная')"
   ]
  },
  {
   "cell_type": "code",
   "execution_count": 24,
   "id": "f0447624-10da-4d3b-b264-c50d2024132f",
   "metadata": {},
   "outputs": [
    {
     "name": "stdin",
     "output_type": "stream",
     "text": [
      " 2\n",
      " 0 0 3\n",
      " 4 5 6\n"
     ]
    },
    {
     "name": "stdout",
     "output_type": "stream",
     "text": [
      "Матрица системы вырожденная\n"
     ]
    }
   ],
   "source": [
    "rows_matr = int(input()) # number of rows\n",
    "col_matr = rows_matr + 1 #number of columns\n",
    "\n",
    "M1 = []  \n",
    "v1 = []\n",
    "for i in range(0,rows_matr):\n",
    "    ab = input().split()\n",
    "    M1.append(ab[0:-1])\n",
    "    v1.append(ab[-1])\n",
    "    \n",
    "\n",
    "new_M1 = [[float(num) for num in g] for g in M1]\n",
    "new_v1 = [float(x) for x in v1]\n",
    "\n",
    "\n",
    "if np.linalg.det(new_M1) == 0:\n",
    "    print ('Матрица системы вырожденная')\n",
    "else:\n",
    "    r = np.linalg.solve(new_M1, new_v1) \n",
    "    print(*r)"
   ]
  },
  {
   "cell_type": "code",
   "execution_count": 6,
   "id": "7bf681a0-fcdd-4685-b24a-54c0fba2720a",
   "metadata": {},
   "outputs": [
    {
     "name": "stdin",
     "output_type": "stream",
     "text": [
      " 2\n",
      " 1 2 3\n",
      " 2 3 4\n"
     ]
    },
    {
     "name": "stdout",
     "output_type": "stream",
     "text": [
      "-1.0 2.0\n"
     ]
    }
   ],
   "source": [
    "import numpy as np\n",
    "\n",
    "n, M, v = int(input()), [], []\n",
    "\n",
    "\n",
    "for i in range(n):\n",
    "    c = list(map(float, input().split()))\n",
    "    M.append(c[:-1])\n",
    "    v.append(c[-1])\n",
    "    \n",
    "M1 = np.array(M) \n",
    "v1 = np.array(v) \n",
    "\n",
    "if np.linalg.det(M1):\n",
    "    r = np.linalg.solve(M1, v1)\n",
    "    print(*r)\n",
    "else:\n",
    "    print('Система не имеет решения')\n"
   ]
  },
  {
   "cell_type": "code",
   "execution_count": 63,
   "id": "842f6a7a-ffed-429c-82da-20db98823668",
   "metadata": {},
   "outputs": [
    {
     "name": "stdin",
     "output_type": "stream",
     "text": [
      " 22 24\n"
     ]
    },
    {
     "name": "stdout",
     "output_type": "stream",
     "text": [
      "Такого класса не существует\n"
     ]
    }
   ],
   "source": [
    "# put your python code here\n",
    "import numpy as np\n",
    "a,b = map(int, input().split())\n",
    "uch = np.array([[1, 1], [1, -1]], dtype = int)\n",
    "ravn = np.array([a, b], dtype = int)\n",
    "\n",
    "n = a - b\n",
    "if n <= 0: \n",
    "    print('Такого класса не существует')\n",
    "elif np.linalg.det(uch):\n",
    "    r = np.linalg.solve(uch, ravn)\n",
    "    if int(r[0])+int(r[1]) == int(a):\n",
    "        print(int(r[0]), int(r[1]))\n",
    "\n",
    "    else:\n",
    "        print('Такого класса не существует')\n",
    "    \n",
    "    \n"
   ]
  },
  {
   "cell_type": "code",
   "execution_count": 117,
   "id": "9a7842e9-0054-44de-bdeb-f49d7c4f603f",
   "metadata": {
    "collapsed": true,
    "jupyter": {
     "outputs_hidden": true
    },
    "tags": []
   },
   "outputs": [
    {
     "data": {
      "image/png": "[encoded data removed]",
      "text/plain": [
       "<Figure size 432x288 with 1 Axes>"
      ]
     },
     "metadata": {
      "needs_background": "light"
     },
     "output_type": "display_data"
    }
   ],
   "source": [
    "import matplotlib.pyplot as plt\n",
    "%matplotlib inline\n",
    "c = [1.0, 0.0, 0.0, -1.0, -0.0, 1.0]\n",
    "\n",
    "def f(x, c):\n",
    "    return c[0]+c[1]*x+c[2]*x**2+c[3]*x**3+c[4]*x**4+c[5]*x**5\n",
    "\n",
    "#(0,1), (1,1), (2,25), (-1,1), (-2,-23), (0.5,0.90625)\n",
    "\n",
    "x=np.linspace(-14, -11, 20) #Массив значений аргумента\n",
    "plt.plot(x, f(x, c)) #Построение графика\n",
    "plt.xlabel(r'$x$') #Метка по оси x в формате TeX\n",
    "plt.ylabel(r'$f(x)$') #Метка по оси y в формате TeX\n",
    "plt.grid(True) #Сетка\n",
    "plt.show() #Показать график"
   ]
  },
  {
   "cell_type": "markdown",
   "id": "6b1cca5a-e1ae-40e1-a201-162ff781525f",
   "metadata": {},
   "source": [
    "***\n",
    "## Приступаю к решению задачи с курсеры\n",
    "Каждый раз вбиваю координаты для нахождения коэффициентов"
   ]
  },
  {
   "cell_type": "code",
   "execution_count": 154,
   "id": "a1b4cd66-e2f2-4851-92ad-1a7f16d6b280",
   "metadata": {
    "tags": []
   },
   "outputs": [
    {
     "name": "stdin",
     "output_type": "stream",
     "text": [
      " 4\n",
      " 1 3.25\n",
      " 4 1.75\n",
      " 10 2.5\n",
      " 15 0.7\n"
     ]
    },
    {
     "name": "stdout",
     "output_type": "stream",
     "text": [
      "4.352164502164502 -1.2851443001442995 0.19108946608946595 -0.008109668109668103\n",
      "4.35 -1.29 0.19 -0.01\n"
     ]
    }
   ],
   "source": [
    "#(0,1), (1,1), (2,25), (-1,1), (-2,-23), (0.5,0.90625)\n",
    "M = int(input())\n",
    "n = M - 1\n",
    "matrix = []\n",
    "sv = []\n",
    "\n",
    "for i in range(M):\n",
    "    x,y = input().split()\n",
    "    sv.append(float(y))\n",
    "    for k in range(n+1):\n",
    "        matrix.append(float(x)**k)\n",
    "\n",
    "matrix = np.reshape(matrix, ((M, n+1)))\n",
    "sv = np.array(sv)\n",
    "        \n",
    "\n",
    "if np.linalg.det(matrix) == 0:\n",
    "    print ('Матрица системы вырожденная')\n",
    "else:\n",
    "    r = np.linalg.solve(matrix, sv) \n",
    "    print(*r)\n",
    "    print(round(r[0],2), round(r[1],2), round(r[2],2), round(r[3],2))"
   ]
  },
  {
   "cell_type": "code",
   "execution_count": 161,
   "id": "6cce0c62-4aa2-4ad5-a231-3bb5869023be",
   "metadata": {},
   "outputs": [
    {
     "name": "stdout",
     "output_type": "stream",
     "text": [
      "4.35216 -1.28514 0.19109 -0.00811\n"
     ]
    }
   ],
   "source": [
    "print(round(r[0],5), round(r[1],5), round(r[2],5), round(r[3],5))"
   ]
  },
  {
   "cell_type": "markdown",
   "id": "01578a41-95a2-4f42-8605-eb6008defb27",
   "metadata": {},
   "source": [
    "График для многочлена первой степени"
   ]
  },
  {
   "cell_type": "code",
   "execution_count": 122,
   "id": "d60a6b1f-6f69-49a5-999d-1271cd0be0d7",
   "metadata": {},
   "outputs": [
    {
     "data": {
      "image/png": "[encoded data removed]",
      "text/plain": [
       "<Figure size 432x288 with 1 Axes>"
      ]
     },
     "metadata": {
      "needs_background": "light"
     },
     "output_type": "display_data"
    }
   ],
   "source": [
    "import matplotlib.pyplot as plt\n",
    "%matplotlib inline\n",
    "c = [3.439285714285714, -0.18928571428571428]\n",
    "\n",
    "def f(x, c):\n",
    "    return c[0]+c[1]*x\n",
    "\n",
    "#2\n",
    "#(1 3.25)\n",
    "#(15 0.6)\n",
    "#(3.439285714285714 -0.18928571428571428)\n",
    "\n",
    "x=np.linspace(1, 15, 20) #Массив значений аргумента\n",
    "plt.plot(x, f(x, c)) #Построение графика\n",
    "plt.xlabel(r'$x$') #Метка по оси x в формате TeX\n",
    "plt.ylabel(r'$f(x)$') #Метка по оси y в формате TeX\n",
    "plt.grid(True) #Сетка\n",
    "plt.show() #Показать график"
   ]
  },
  {
   "cell_type": "markdown",
   "id": "c8a0aaa9-946f-4fb9-9fa6-fa969cbd4809",
   "metadata": {},
   "source": [
    "График для многочлена 2-ой степени"
   ]
  },
  {
   "cell_type": "code",
   "execution_count": 126,
   "id": "ad081060-85f1-44ec-9ecf-204bafa7d644",
   "metadata": {
    "tags": []
   },
   "outputs": [
    {
     "data": {
      "image/png": "[encoded data removed]",
      "text/plain": [
       "<Figure size 432x288 with 1 Axes>"
      ]
     },
     "metadata": {
      "needs_background": "light"
     },
     "output_type": "display_data"
    }
   ],
   "source": [
    "import matplotlib.pyplot as plt\n",
    "%matplotlib inline\n",
    "c = [3.3397959183673467, -0.08316326530612246,-0.006632653061224489]\n",
    "\n",
    "def f(x, c):\n",
    "    return c[0]+c[1]*x+c[2]*x**2\n",
    "\n",
    "#3\n",
    "# 1 3.25\n",
    "# 8 2.25\n",
    "# 15 0.6\n",
    "# 3.3397959183673467 -0.08316326530612246 -0.006632653061224489\n",
    "\n",
    "\n",
    "x=np.linspace(1, 15, 50) #Массив значений аргумента\n",
    "plt.plot(x, f(x, c)) #Построение графика\n",
    "plt.xlabel(r'$x$') #Метка по оси x в формате TeX\n",
    "plt.ylabel(r'$f(x)$') #Метка по оси y в формате TeX\n",
    "plt.grid(True) #Сетка\n",
    "plt.show() #Показать график"
   ]
  },
  {
   "cell_type": "markdown",
   "id": "433cc7f8-c26c-4ed0-b442-aa25fa339ed2",
   "metadata": {},
   "source": [
    "График для многочлена 3-ей степени"
   ]
  },
  {
   "cell_type": "code",
   "execution_count": 163,
   "id": "374fa068-458d-4b95-9af8-311fba14f865",
   "metadata": {
    "tags": []
   },
   "outputs": [
    {
     "data": {
      "image/png": "[encoded data removed]",
      "text/plain": [
       "<Figure size 432x288 with 1 Axes>"
      ]
     },
     "metadata": {
      "needs_background": "light"
     },
     "output_type": "display_data"
    }
   ],
   "source": [
    "import matplotlib.pyplot as plt\n",
    "%matplotlib inline\n",
    "c = [4.352164502164502, -1.2851443001442995, 0.19108946608946595, -0.008109668109668103]\n",
    "\n",
    "def f(x, c):\n",
    "    return c[0]+c[1]*x+c[2]*x**2+c[3]*x**3\n",
    "\n",
    "\n",
    "x=np.linspace(1, 15, 50) #Массив значений аргумента\n",
    "plt.plot(x, f(x, c)) #Построение графика\n",
    "plt.xlabel(r'$x$') #Метка по оси x в формате TeX\n",
    "plt.ylabel(r'$f(x)$') #Метка по оси y в формате TeX\n",
    "plt.grid(True) #Сетка\n",
    "plt.show() #Показать график"
   ]
  },
  {
   "cell_type": "code",
   "execution_count": 6,
   "id": "342f6376-c22b-4c15-9c95-516c66982a0e",
   "metadata": {},
   "outputs": [
    {
     "name": "stdout",
     "output_type": "stream",
     "text": [
      "Введите коэффициенты для уравнения\n",
      "ax^2 + bx + c = 0:\n"
     ]
    },
    {
     "name": "stdin",
     "output_type": "stream",
     "text": [
      "a =  1\n",
      "b =  4\n",
      "c =  3\n"
     ]
    },
    {
     "name": "stdout",
     "output_type": "stream",
     "text": [
      "Дискриминант D = 4.00\n",
      "x1 = -1.00 \n",
      "x2 = -3.00\n"
     ]
    }
   ],
   "source": [
    "import math\n",
    " \n",
    "print(\"Введите коэффициенты для уравнения\")\n",
    "print(\"ax^2 + bx + c = 0:\")\n",
    "a = float(input(\"a = \"))\n",
    "b = float(input(\"b = \"))\n",
    "c = float(input(\"c = \"))\n",
    " \n",
    "discr = b ** 2 - 4 * a * c\n",
    "print(\"Дискриминант D = %.2f\" % discr)\n",
    " \n",
    "if discr > 0:\n",
    "    x1 = (-b + math.sqrt(discr)) / (2 * a)\n",
    "    x2 = (-b - math.sqrt(discr)) / (2 * a)\n",
    "    print(\"x1 = %.2f \\nx2 = %.2f\" % (x1, x2))\n",
    "elif discr == 0:\n",
    "    x = -b / (2 * a)\n",
    "    print(\"x = %.2f\" % x)\n",
    "else:\n",
    "    print(\"Корней нет\")"
   ]
  }
 ],
 "metadata": {
  "kernelspec": {
   "display_name": "Python 3",
   "language": "python",
   "name": "python3"
  },
  "language_info": {
   "codemirror_mode": {
    "name": "ipython",
    "version": 3
   },
   "file_extension": ".py",
   "mimetype": "text/x-python",
   "name": "python",
   "nbconvert_exporter": "python",
   "pygments_lexer": "ipython3",
   "version": "3.8.8"
  }
 },
 "nbformat": 4,
 "nbformat_minor": 5
}
